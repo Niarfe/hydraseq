{
 "cells": [
  {
   "cell_type": "code",
   "execution_count": 1,
   "metadata": {},
   "outputs": [
    {
     "name": "stdout",
     "output_type": "stream",
     "text": [
      "/Users/niarfe/tmprepos/hydra_inc/hydraseq/notebooks\r\n"
     ]
    }
   ],
   "source": [
    "! pwd\n",
    "import sys\n",
    "sys.path.append(\"/Users/niarfe/tmprepos/hydra_inc/hydraseq\")\n",
    "import hydraseq\n",
    "from hydraseq import Hydraseq\n",
    "from hydraseq.columns import run_convolutions"
   ]
  },
  {
   "cell_type": "code",
   "execution_count": 2,
   "metadata": {},
   "outputs": [],
   "source": [
    "sentence = \"the quick brown fox jumped over the lazy dog\""
   ]
  },
  {
   "cell_type": "code",
   "execution_count": 3,
   "metadata": {},
   "outputs": [],
   "source": [
    "hdq1 = hydraseq.Hydraseq('one')\n",
    "for pattern in [\n",
    "    \"the _ART\",\n",
    "    \"quick _ADJ\",\n",
    "    \"brown _ADJ\",\n",
    "    \"fox _NOU\",\n",
    "    \"jumped _VER\",\n",
    "    \"over _PRO\",\n",
    "    \"lazy _ADJ\",\n",
    "    \"dog _NOU\"\n",
    "]:\n",
    "    hdq1.insert(pattern)\n",
    "\n",
    "hdq2 = hydraseq.Hydraseq('two')\n",
    "for pattern in [\n",
    "    \"_NOU *NP*\",\n",
    "    \"_ADJ _NOU *NP*\",\n",
    "    \"_VER *VP*\",\n",
    "    \"_ADV _VER *VP*\",\n",
    "    \"_ART _NOU *NP*\",\n",
    "    \"_ART _ADJ _ADJ _NOU *NP*\",\n",
    "\n",
    "]:\n",
    "    hdq2.insert(pattern)\n",
    "\n",
    "hdq3 = hydraseq.Hydraseq('three')\n",
    "for pattern in [\n",
    "    \"_NP_ _VP_ #BINGO#\"\n",
    "]:\n",
    "    hdq3.insert(pattern)"
   ]
  },
  {
   "cell_type": "code",
   "execution_count": 4,
   "metadata": {},
   "outputs": [
    {
     "data": {
      "text/plain": [
       "Hydra:\n",
       "\tactive nodes: [the]\n",
       "\tnext nodes: [_ART]"
      ]
     },
     "execution_count": 4,
     "metadata": {},
     "output_type": "execute_result"
    }
   ],
   "source": [
    "hdq1.look_ahead('the')"
   ]
  },
  {
   "cell_type": "code",
   "execution_count": 5,
   "metadata": {},
   "outputs": [
    {
     "name": "stdout",
     "output_type": "stream",
     "text": [
      "('the', ['_ART'])\n",
      "('quick', ['_ADJ'])\n",
      "('brown', ['_ADJ'])\n",
      "('fox', ['_NOU'])\n",
      "('jumped', ['_VER'])\n",
      "('over', ['_PRO'])\n",
      "('the', ['_ART'])\n",
      "('lazy', ['_ADJ'])\n",
      "('dog', ['_NOU'])\n"
     ]
    }
   ],
   "source": [
    "run_convolutions(sentence.split(), hdq1, \"_\")\n",
    "encoded = [code[2] for code in run_convolutions(sentence.split(), hdq1, \"_\")]\n",
    "for tup in zip(sentence.split(), encoded):\n",
    "    print(tup)"
   ]
  },
  {
   "cell_type": "code",
   "execution_count": 6,
   "metadata": {},
   "outputs": [
    {
     "name": "stdout",
     "output_type": "stream",
     "text": [
      "['the', 'quick', 'brown', 'fox'] [0, 4, ['*NP*']]\n",
      "['brown', 'fox'] [2, 4, ['*NP*']]\n",
      "['fox'] [3, 4, ['*NP*']]\n",
      "['jumped'] [4, 5, ['*VP*']]\n",
      "['lazy', 'dog'] [7, 9, ['*NP*']]\n",
      "['dog'] [8, 9, ['*NP*']]\n"
     ]
    }
   ],
   "source": [
    "convos = run_convolutions(encoded, hdq2, \"*\")\n",
    "words = sentence.split()\n",
    "for convo in convos:\n",
    "    print(words[convo[0]:convo[1]], convo)"
   ]
  },
  {
   "cell_type": "code",
   "execution_count": 7,
   "metadata": {},
   "outputs": [
    {
     "ename": "NameError",
     "evalue": "name 'encoded2' is not defined",
     "output_type": "error",
     "traceback": [
      "\u001b[0;31m---------------------------------------------------------------------------\u001b[0m",
      "\u001b[0;31mNameError\u001b[0m                                 Traceback (most recent call last)",
      "\u001b[0;32m<ipython-input-7-d1ca23544403>\u001b[0m in \u001b[0;36m<module>\u001b[0;34m\u001b[0m\n\u001b[0;32m----> 1\u001b[0;31m \u001b[0mrun_convolutions\u001b[0m\u001b[0;34m(\u001b[0m\u001b[0mencoded2\u001b[0m\u001b[0;34m,\u001b[0m \u001b[0mhdq3\u001b[0m\u001b[0;34m,\u001b[0m \u001b[0;34m\"_\"\u001b[0m\u001b[0;34m)\u001b[0m\u001b[0;34m\u001b[0m\u001b[0m\n\u001b[0m",
      "\u001b[0;31mNameError\u001b[0m: name 'encoded2' is not defined"
     ]
    }
   ],
   "source": [
    "run_convolutions(convos0, hdq3, \"_\")"
   ]
  }
 ],
 "metadata": {
  "kernelspec": {
   "display_name": "Python 3",
   "language": "python",
   "name": "python3"
  },
  "language_info": {
   "codemirror_mode": {
    "name": "ipython",
    "version": 3
   },
   "file_extension": ".py",
   "mimetype": "text/x-python",
   "name": "python",
   "nbconvert_exporter": "python",
   "pygments_lexer": "ipython3",
   "version": "3.6.4"
  }
 },
 "nbformat": 4,
 "nbformat_minor": 2
}
