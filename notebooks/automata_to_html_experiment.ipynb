{
 "cells": [
  {
   "cell_type": "code",
   "execution_count": 1,
   "metadata": {},
   "outputs": [],
   "source": [
    "import sys\n",
    "sys.path.append('../')\n",
    "import hydraseq as hs"
   ]
  },
  {
   "cell_type": "code",
   "execution_count": 2,
   "metadata": {},
   "outputs": [],
   "source": [
    "hdr = hs.Hydraseq('_')\n",
    "\n",
    "hdr.insert(\"a b c _ALPHA\")\n",
    "hdr.insert(\"1 2 3 _DIGIT\")\n",
    "\n",
    "\n",
    "assert hdr.convolutions(\"a b c 1 2 3\".split()) == [[0, 3, ['_ALPHA']], [3, 6, ['_DIGIT']]]\n",
    "assert hdr.convolutions(\"a b 1 2 3 a b\".split()) == [[2, 5, ['_DIGIT']]]"
   ]
  },
  {
   "cell_type": "code",
   "execution_count": 3,
   "metadata": {},
   "outputs": [
    {
     "data": {
      "text/plain": [
       "Hydra:\n",
       "\tactive nodes: [i]\n",
       "\tnext nodes: []"
      ]
     },
     "execution_count": 3,
     "metadata": {},
     "output_type": "execute_result"
    }
   ],
   "source": [
    "hds = hs.Hydraseq('_')\n",
    "\n",
    "hds.insert('a b c d e f g h i j')\n",
    "\n",
    "nxt = hds.look_ahead('a b c d e f g h i').next_nodes.pop()\n",
    "assert nxt.get_sequence() == 'a b c d e f g h i j'\n",
    "assert str(nxt.get_sequence_nodes()) == '[[a], [b], [c], [d], [e], [f], [g], [h], [i]]'\n",
    "\n",
    "\n",
    "hds1 = hs.Hydraseq('_')\n",
    "hds1.insert('C A B')\n",
    "\n",
    "nxt1 = hds1.look_ahead('C A').next_nodes.pop()\n",
    "assert nxt1.get_sequence() == 'C A B'\n",
    "\n",
    "    \n",
    "\n",
    "hds2 = hs.Hydraseq('_')\n",
    "hds2.insert([['a'], ['B'],['c']])\n",
    "hds2.insert([['a'], ['b'],['c']])\n",
    "nxts = hds2.look_ahead([['a'], ['b','B']]).next_nodes\n",
    "\n",
    "assert sorted([str(nxt.get_sequence_nodes()) for nxt in nxts]) == ['[[a], [B]]', '[[a], [b]]']\n",
    "hds"
   ]
  },
  {
   "cell_type": "code",
   "execution_count": 4,
   "metadata": {},
   "outputs": [
    {
     "name": "stdout",
     "output_type": "stream",
     "text": [
      "Dear Spike,\n",
      "   a\n",
      "I wish you to leave Sunnydale and never return.\n",
      "\n",
      "Not Quite Love,\n",
      "Buffy the Vampire Slayer\n",
      "\n"
     ]
    }
   ],
   "source": [
    "sender = 'Buffy the Vampire Slayer'\n",
    "recipient = 'Spike'\n",
    "\n",
    "output = \"\"\"\\\n",
    "Dear %(recipient)s,\n",
    "   a\n",
    "I wish you to leave Sunnydale and never return.\n",
    "\n",
    "Not Quite Love,\n",
    "%(sender)s\n",
    "\"\"\" % locals()\n",
    "\n",
    "print(output)"
   ]
  },
  {
   "cell_type": "code",
   "execution_count": 5,
   "metadata": {},
   "outputs": [],
   "source": [
    "transitions = [\n",
    "    \"s1 a,b ^s2\",\n",
    "    \"s2 a,b ^s3\",\n",
    "    \"s3 a ^s4\",\n",
    "    \"s3 b ^s5\",\n",
    "    \"s4 a,b ^s4\",\n",
    "    \"s5 a,b ^s5\"\n",
    "]\n",
    "\n",
    "dfa = hs.automata.DFAstate(transitions, 's1', accepting_states=['s5'])\n",
    "\n",
    "with open('automata.html', 'w') as target:\n",
    "    target.write(dfa.to_html())\n",
    "! open automata.html"
   ]
  }
 ],
 "metadata": {
  "kernelspec": {
   "display_name": "Python 3",
   "language": "python",
   "name": "python3"
  },
  "language_info": {
   "codemirror_mode": {
    "name": "ipython",
    "version": 3
   },
   "file_extension": ".py",
   "mimetype": "text/x-python",
   "name": "python",
   "nbconvert_exporter": "python",
   "pygments_lexer": "ipython3",
   "version": "3.6.4"
  }
 },
 "nbformat": 4,
 "nbformat_minor": 2
}
